{
 "cells": [
  {
   "cell_type": "markdown",
   "id": "20b32312",
   "metadata": {},
   "source": [
    "# Análisis Caida Libre de la Servilleta"
   ]
  },
  {
   "cell_type": "code",
   "execution_count": 64,
   "id": "364f3d44",
   "metadata": {},
   "outputs": [],
   "source": [
    "import pandas as pd\n",
    "import matplotlib.pyplot as plt\n",
    "import numpy as np\n",
    "from scipy.optimize import curve_fit"
   ]
  },
  {
   "cell_type": "code",
   "execution_count": 65,
   "id": "86cdefaa",
   "metadata": {},
   "outputs": [
    {
     "data": {
      "text/html": [
       "<div>\n",
       "<style scoped>\n",
       "    .dataframe tbody tr th:only-of-type {\n",
       "        vertical-align: middle;\n",
       "    }\n",
       "\n",
       "    .dataframe tbody tr th {\n",
       "        vertical-align: top;\n",
       "    }\n",
       "\n",
       "    .dataframe thead th {\n",
       "        text-align: right;\n",
       "    }\n",
       "</style>\n",
       "<table border=\"1\" class=\"dataframe\">\n",
       "  <thead>\n",
       "    <tr style=\"text-align: right;\">\n",
       "      <th></th>\n",
       "      <th>t</th>\n",
       "      <th>y_mts</th>\n",
       "    </tr>\n",
       "  </thead>\n",
       "  <tbody>\n",
       "    <tr>\n",
       "      <th>0</th>\n",
       "      <td>0.000000</td>\n",
       "      <td>0.000000</td>\n",
       "    </tr>\n",
       "    <tr>\n",
       "      <th>1</th>\n",
       "      <td>0.065900</td>\n",
       "      <td>0.003065</td>\n",
       "    </tr>\n",
       "    <tr>\n",
       "      <th>2</th>\n",
       "      <td>0.066000</td>\n",
       "      <td>0.017558</td>\n",
       "    </tr>\n",
       "    <tr>\n",
       "      <th>3</th>\n",
       "      <td>0.131900</td>\n",
       "      <td>0.039063</td>\n",
       "    </tr>\n",
       "    <tr>\n",
       "      <th>4</th>\n",
       "      <td>0.132000</td>\n",
       "      <td>0.077400</td>\n",
       "    </tr>\n",
       "    <tr>\n",
       "      <th>5</th>\n",
       "      <td>0.197933</td>\n",
       "      <td>0.115033</td>\n",
       "    </tr>\n",
       "    <tr>\n",
       "      <th>6</th>\n",
       "      <td>0.198033</td>\n",
       "      <td>0.166927</td>\n",
       "    </tr>\n",
       "    <tr>\n",
       "      <th>7</th>\n",
       "      <td>0.263956</td>\n",
       "      <td>0.230272</td>\n",
       "    </tr>\n",
       "    <tr>\n",
       "      <th>8</th>\n",
       "      <td>0.264056</td>\n",
       "      <td>0.294085</td>\n",
       "    </tr>\n",
       "    <tr>\n",
       "      <th>9</th>\n",
       "      <td>0.329900</td>\n",
       "      <td>0.375197</td>\n",
       "    </tr>\n",
       "    <tr>\n",
       "      <th>10</th>\n",
       "      <td>0.330000</td>\n",
       "      <td>0.477114</td>\n",
       "    </tr>\n",
       "    <tr>\n",
       "      <th>11</th>\n",
       "      <td>0.362900</td>\n",
       "      <td>0.571549</td>\n",
       "    </tr>\n",
       "    <tr>\n",
       "      <th>12</th>\n",
       "      <td>0.428900</td>\n",
       "      <td>0.688189</td>\n",
       "    </tr>\n",
       "    <tr>\n",
       "      <th>13</th>\n",
       "      <td>0.429000</td>\n",
       "      <td>0.782156</td>\n",
       "    </tr>\n",
       "    <tr>\n",
       "      <th>14</th>\n",
       "      <td>0.494911</td>\n",
       "      <td>0.912822</td>\n",
       "    </tr>\n",
       "    <tr>\n",
       "      <th>15</th>\n",
       "      <td>0.495011</td>\n",
       "      <td>1.085563</td>\n",
       "    </tr>\n",
       "    <tr>\n",
       "      <th>16</th>\n",
       "      <td>0.560900</td>\n",
       "      <td>1.197998</td>\n",
       "    </tr>\n",
       "    <tr>\n",
       "      <th>17</th>\n",
       "      <td>0.561000</td>\n",
       "      <td>1.333805</td>\n",
       "    </tr>\n",
       "    <tr>\n",
       "      <th>18</th>\n",
       "      <td>0.626900</td>\n",
       "      <td>1.442266</td>\n",
       "    </tr>\n",
       "  </tbody>\n",
       "</table>\n",
       "</div>"
      ],
      "text/plain": [
       "           t     y_mts\n",
       "0   0.000000  0.000000\n",
       "1   0.065900  0.003065\n",
       "2   0.066000  0.017558\n",
       "3   0.131900  0.039063\n",
       "4   0.132000  0.077400\n",
       "5   0.197933  0.115033\n",
       "6   0.198033  0.166927\n",
       "7   0.263956  0.230272\n",
       "8   0.264056  0.294085\n",
       "9   0.329900  0.375197\n",
       "10  0.330000  0.477114\n",
       "11  0.362900  0.571549\n",
       "12  0.428900  0.688189\n",
       "13  0.429000  0.782156\n",
       "14  0.494911  0.912822\n",
       "15  0.495011  1.085563\n",
       "16  0.560900  1.197998\n",
       "17  0.561000  1.333805\n",
       "18  0.626900  1.442266"
      ]
     },
     "execution_count": 65,
     "metadata": {},
     "output_type": "execute_result"
    }
   ],
   "source": [
    "Datos = pd.read_csv('caida_libre_1.cvs', sep = ';')\n",
    "Datos['y_mts'] = Datos.y/100\n",
    "Datos = Datos.drop(columns='y')\n",
    "Datos"
   ]
  },
  {
   "cell_type": "code",
   "execution_count": 66,
   "id": "07b6972b",
   "metadata": {},
   "outputs": [
    {
     "data": {
      "image/png": "[encoded data removed]",
      "text/plain": [
       "<Figure size 432x288 with 1 Axes>"
      ]
     },
     "metadata": {
      "needs_background": "light"
     },
     "output_type": "display_data"
    }
   ],
   "source": [
    "plt.scatter(Datos.t, Datos.y_mts, label = 'Datos Experimentales');\n"
   ]
  },
  {
   "cell_type": "markdown",
   "id": "edbc015c",
   "metadata": {},
   "source": [
    "# Ajuste de Datos a modelo experimental"
   ]
  },
  {
   "cell_type": "markdown",
   "id": "706a4822",
   "metadata": {},
   "source": [
    "Suponemos que el objeto tiene un movimiento rectilineo uniformemente acelerado (caida libre), el cual está descrito por la ecuación cinemática \n",
    "\\begin{equation}\n",
    "y = \\frac{1}{2}gt^2\n",
    "\\end{equation}\n",
    "Noten que por la manera en que tomamos los ejes coordenados en tracker para hacer las mediciones, $y_0=0$m y $v_0=0$m/s. Este va a ser nuestro modelo basado en las leyes de la física."
   ]
  },
  {
   "cell_type": "code",
   "execution_count": 67,
   "id": "3214c2b3",
   "metadata": {},
   "outputs": [
    {
     "name": "stdout",
     "output_type": "stream",
     "text": [
      "Gravedad = 7.874 m/s2\n"
     ]
    }
   ],
   "source": [
    "def modelo(t,g): return 0.5*g*t**2\n",
    "#Definir los valores para el modelo\n",
    "t_data = Datos['t'].values\n",
    "y_data = Datos['y_mts'].values\n",
    "\n",
    "popt, _ = curve_fit(modelo, t_data, y_data) \n",
    "g = popt[0]\n",
    "\n",
    "y_pred = modelo(t_data, g)\n",
    "print('Gravedad =', g.round(3),'m/s2')"
   ]
  },
  {
   "cell_type": "code",
   "execution_count": 82,
   "id": "db7a3b47",
   "metadata": {
    "scrolled": false
   },
   "outputs": [
    {
     "data": {
      "image/png": "[encoded data removed]",
      "text/plain": [
       "<Figure size 432x288 with 1 Axes>"
      ]
     },
     "metadata": {
      "needs_background": "light"
     },
     "output_type": "display_data"
    }
   ],
   "source": [
    "plt.rcParams['text.usetex'] = True\n",
    "plt.scatter(t_data, y_data, label='Datos experimentales')\n",
    "plt.plot(t_data, y_pred, color='red', label=r'$y=4.98t^{2}$')\n",
    "plt.title('Posición vertical en función del tiempo',fontsize=14)\n",
    "plt.ylabel(r'$y$(m)')\n",
    "plt.xlabel(r'$t$(s)');\n",
    "plt.legend(shadow=True)\n",
    "plt.savefig('CaidaLibre_DatosAjuste.pdf')\n",
    "plt.show()"
   ]
  },
  {
   "cell_type": "code",
   "execution_count": 83,
   "id": "7076d2da",
   "metadata": {},
   "outputs": [
    {
     "name": "stdout",
     "output_type": "stream",
     "text": [
      "Error en la medida de la gravedad: 19.652 %\n"
     ]
    }
   ],
   "source": [
    "error_grav = 100*np.abs(9.8 - g )/9.8\n",
    "print('Error en la medida de la gravedad:',error_grav.round(3),'%')"
   ]
  },
  {
   "cell_type": "code",
   "execution_count": null,
   "id": "cd40fcdd",
   "metadata": {},
   "outputs": [],
   "source": []
  }
 ],
 "metadata": {
  "kernelspec": {
   "display_name": "Python 3",
   "language": "python",
   "name": "python3"
  },
  "language_info": {
   "codemirror_mode": {
    "name": "ipython",
    "version": 3
   },
   "file_extension": ".py",
   "mimetype": "text/x-python",
   "name": "python",
   "nbconvert_exporter": "python",
   "pygments_lexer": "ipython3",
   "version": "3.8.8"
  }
 },
 "nbformat": 4,
 "nbformat_minor": 5
}
